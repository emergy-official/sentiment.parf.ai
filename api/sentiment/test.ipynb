{
 "cells": [
  {
   "cell_type": "code",
   "execution_count": null,
   "metadata": {},
   "outputs": [],
   "source": [
    "import pickle\n",
    "import json\n",
    "import numpy as np\n",
    "\n",
    "with open(\"./artifacts/model.pkl\", \"rb\") as file:  \n",
    "    model = pickle.load(file)  \n",
    "  \n",
    "with open(\"./artifacts/tokenizer.pkl\", \"rb\") as file:  \n",
    "    tokenizer = pickle.load(file)\n",
    "    \n",
    "params = json.load(open(\"./artifacts/params.json\", 'r', encoding='utf-8'))\n",
    "    \n",
    "  \n",
    "def pad_sequences(sequence, maxlen, value=0):  \n",
    "    return np.array([np.pad(s[:maxlen], (max(0, maxlen-len(s)), 0), 'constant', constant_values=value) if len(s) < maxlen else s[:maxlen] for s in sequence])  \n",
    "  \n",
    "def predict(text_to_predict):\n",
    "    # Tokenizing and padding  \n",
    "    sequence = tokenizer.texts_to_sequences(text_to_predict)\n",
    "    # We need to pad sequences to ensure uniform input size  \n",
    "    padded_sequence = pad_sequences(sequence, maxlen=int(params[\"input_length\"]))\n",
    "    print(padded_sequence)\n",
    "    \n",
    "    prediction = model.predict(padded_sequence)\n",
    "    sentiment = prediction.astype(float)[0][0]\n",
    "    return sentiment.item()\n",
    "\n",
    "print(predict([\"I am so sad, this is very bad news, terrible!\"]))\n"
   ]
  }
 ],
 "metadata": {
  "kernelspec": {
   "display_name": "Python 3",
   "language": "python",
   "name": "python3"
  },
  "language_info": {
   "codemirror_mode": {
    "name": "ipython",
    "version": 3
   },
   "file_extension": ".py",
   "mimetype": "text/x-python",
   "name": "python",
   "nbconvert_exporter": "python",
   "pygments_lexer": "ipython3",
   "version": "3.11.5"
  }
 },
 "nbformat": 4,
 "nbformat_minor": 2
}
