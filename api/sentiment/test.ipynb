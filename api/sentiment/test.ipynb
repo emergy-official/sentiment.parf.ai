{
 "cells": [
  {
   "cell_type": "code",
   "execution_count": 1,
   "metadata": {},
   "outputs": [
    {
     "name": "stderr",
     "output_type": "stream",
     "text": [
      "2024-02-06 10:14:28.702123: I metal_plugin/src/device/metal_device.cc:1154] Metal device set to: Apple M2\n",
      "2024-02-06 10:14:28.702147: I metal_plugin/src/device/metal_device.cc:296] systemMemory: 24.00 GB\n",
      "2024-02-06 10:14:28.702152: I metal_plugin/src/device/metal_device.cc:313] maxCacheSize: 8.00 GB\n",
      "2024-02-06 10:14:28.702182: I tensorflow/core/common_runtime/pluggable_device/pluggable_device_factory.cc:306] Could not identify NUMA node of platform GPU ID 0, defaulting to 0. Your kernel may not have been built with NUMA support.\n",
      "2024-02-06 10:14:28.702199: I tensorflow/core/common_runtime/pluggable_device/pluggable_device_factory.cc:272] Created TensorFlow device (/job:localhost/replica:0/task:0/device:GPU:0 with 0 MB memory) -> physical PluggableDevice (device: 0, name: METAL, pci bus id: <undefined>)\n"
     ]
    },
    {
     "name": "stdout",
     "output_type": "stream",
     "text": [
      "[[  0   0   0   0   0   0   0   0   0   0   0   0   0   0   0   0   0   0\n",
      "    0   0   0   0   0   0   0   0   0   0   0   0   1  50  17   1  28   9\n",
      "  117 116   1   1]]\n"
     ]
    },
    {
     "name": "stderr",
     "output_type": "stream",
     "text": [
      "2024-02-06 10:14:29.609521: I tensorflow/core/grappler/optimizers/custom_graph_optimizer_registry.cc:117] Plugin optimizer for device_type GPU is enabled.\n"
     ]
    },
    {
     "name": "stdout",
     "output_type": "stream",
     "text": [
      "1/1 [==============================] - 0s 384ms/step\n",
      "0.048104558140039444\n"
     ]
    }
   ],
   "source": [
    "import pickle\n",
    "import json\n",
    "import numpy as np\n",
    "\n",
    "with open(\"./artifacts/model.pkl\", \"rb\") as file:  \n",
    "    model = pickle.load(file)  \n",
    "  \n",
    "with open(\"./artifacts/tokenizer.pkl\", \"rb\") as file:  \n",
    "    tokenizer = pickle.load(file)\n",
    "    \n",
    "params = json.load(open(\"./artifacts/params.json\", 'r', encoding='utf-8'))\n",
    "    \n",
    "  \n",
    "def pad_sequences(sequence, maxlen, value=0):  \n",
    "    return np.array([np.pad(s[:maxlen], (max(0, maxlen-len(s)), 0), 'constant', constant_values=value) if len(s) < maxlen else s[:maxlen] for s in sequence])  \n",
    "  \n",
    "def predict(text_to_predict):\n",
    "    # Tokenizing and padding  \n",
    "    sequence = tokenizer.texts_to_sequences(text_to_predict)\n",
    "    # We need to pad sequences to ensure uniform input size  \n",
    "    padded_sequence = pad_sequences(sequence, maxlen=int(params[\"input_length\"]))\n",
    "    print(padded_sequence)\n",
    "    \n",
    "    prediction = model.predict(padded_sequence)\n",
    "    sentiment = prediction.astype(float)[0][0]\n",
    "    return sentiment.item()\n",
    "print(predict([\"I am so sad, this is very bad news, terrible!\"]))\n"
   ]
  }
 ],
 "metadata": {
  "kernelspec": {
   "display_name": "Python 3",
   "language": "python",
   "name": "python3"
  },
  "language_info": {
   "codemirror_mode": {
    "name": "ipython",
    "version": 3
   },
   "file_extension": ".py",
   "mimetype": "text/x-python",
   "name": "python",
   "nbconvert_exporter": "python",
   "pygments_lexer": "ipython3",
   "version": "3.11.7"
  }
 },
 "nbformat": 4,
 "nbformat_minor": 2
}
